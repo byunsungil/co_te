{
 "cells": [
  {
   "cell_type": "code",
   "execution_count": 19,
   "id": "bfed633d",
   "metadata": {},
   "outputs": [
    {
     "name": "stdout",
     "output_type": "stream",
     "text": [
      "['.-', '-...']\n",
      "<class 'list'>\n",
      ".-\n",
      "-...\n",
      "AB\n"
     ]
    }
   ],
   "source": [
    "# 29701\n",
    "\n",
    "N = int(input()) # 모스부호로 변환하기전 문자열의 길이\n",
    "\n",
    "mos = input().split() # 모스부호 입력 \n",
    "\n",
    "morse_code = {\n",
    "    \".-\": \"A\", \"-...\": \"B\", \"-.-.\": \"C\", \"-..\": \"D\", \".\": \"E\",\n",
    "    \"..-.\": \"F\", \"--.\": \"G\", \"....\": \"H\", \"..\": \"I\", \".---\": \"J\",\n",
    "    \"-.-\": \"K\", \".-..\": \"L\", \"--\": \"M\", \"-.\": \"N\", \"---\": \"O\",\n",
    "    \".--.\": \"P\", \"--.-\": \"Q\", \".-.\": \"R\", \"...\": \"S\", \"-\": \"T\",\n",
    "    \"..-\": \"U\", \"...-\": \"V\", \".--\": \"W\", \"-..-\": \"X\", \"-.--\": \"Y\", \"--..\": \"Z\",\n",
    "    \".----\": \"1\", \"..---\": \"2\", \"...--\": \"3\", \"....-\": \"4\",\n",
    "    \".....\": \"5\", \"-....\": \"6\", \"--...\": \"7\", \"---..\": \"8\",\n",
    "    \"----.\": \"9\", \"-----\": \"0\",\n",
    "    \"--..--\": \",\", \".-.-.-\": \".\", \"..--..\": \"?\", \"---...\": \":\",\n",
    "    \"-....-\": \"-\", \".--.-.\": \"@\"\n",
    "}\n",
    "\n",
    "print(mos)\n",
    "print(type(mos))\n",
    "for i in mos:\n",
    "    print(i)\n",
    "\n",
    "result = []\n",
    "for i in mos:\n",
    "    if i in morse_code.keys():\n",
    "        r = morse_code[i]\n",
    "        result.append(r)\n",
    "\n",
    "print(''.join(result))\n"
   ]
  }
 ],
 "metadata": {
  "kernelspec": {
   "display_name": "ml",
   "language": "python",
   "name": "python3"
  },
  "language_info": {
   "codemirror_mode": {
    "name": "ipython",
    "version": 3
   },
   "file_extension": ".py",
   "mimetype": "text/x-python",
   "name": "python",
   "nbconvert_exporter": "python",
   "pygments_lexer": "ipython3",
   "version": "3.13.3"
  }
 },
 "nbformat": 4,
 "nbformat_minor": 5
}
