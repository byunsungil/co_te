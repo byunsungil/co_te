{
 "cells": [
  {
   "cell_type": "code",
   "execution_count": null,
   "id": "04950d19-2e65-4f51-87b1-8ff13cafd9ad",
   "metadata": {},
   "outputs": [],
   "source": [
    "# 2231번\n",
    "# 어떤 자연수 N이 있을 때, 그 자연수 N의 분해합은 N과 N을 이루는 각 자리수의 합을 의미한다. 어떤 자연수 M의 분해합이 N인 경우, M을 N의 생성자라 한다. \n",
    "# 예를 들어, 245의 분해합은 256(=245+2+4+5)이 된다. 따라서 245는 256의 생성자가 된다. \n",
    "# 물론, 어떤 자연수의 경우에는 생성자가 없을 수도 있다. 반대로, 생성자가 여러 개인 자연수도 있을 수 있다.\n",
    "\n",
    "# 자연수 N이 주어졌을 때, N의 가장 작은 생성자를 구해내는 프로그램을 작성하시오.\n",
    "\n",
    "# 첫째 줄에 자연수 N(1 ≤ N ≤ 1,000,000)이 주어진다.\n",
    "# 첫째 줄에 답을 출력한다. 생성자가 없는 경우에는 0을 출력한다."
   ]
  },
  {
   "cell_type": "code",
   "execution_count": 6,
   "id": "ed3d7fbd-dddc-4cd5-93e7-b67e90bc8725",
   "metadata": {},
   "outputs": [
    {
     "name": "stdout",
     "output_type": "stream",
     "text": [
      " 256\n"
     ]
    },
    {
     "name": "stdout",
     "output_type": "stream",
     "text": [
      "245\n"
     ]
    }
   ],
   "source": [
    "N = int(input())\n",
    "result = 0\n",
    "\n",
    "for i in range(1, N):\n",
    "    d_sum = sum(map(int, str(i)))\n",
    "    if i + d_sum == N:\n",
    "        result = i\n",
    "        break\n",
    "\n",
    "print(result)\n"
   ]
  },
  {
   "cell_type": "code",
   "execution_count": null,
   "id": "14e4e027-6bf3-4b17-9af5-5faf8e5add22",
   "metadata": {},
   "outputs": [],
   "source": [
    "# 1316번\n",
    "# 그룹 단어란 단어에 존재하는 모든 문자에 대해서, 각 문자가 연속해서 나타나는 경우만을 말한다. \n",
    "# 예를 들면, ccazzzzbb는 c, a, z, b가 모두 연속해서 나타나고, kin도 k, i, n이 연속해서 나타나기 때문에 그룹 단어이지만,\n",
    "# aabbbccb는 b가 떨어져서 나타나기 때문에 그룹 단어가 아니다.\n",
    "\n",
    "# 단어 N개를 입력으로 받아 그룹 단어의 개수를 출력하는 프로그램을 작성하시오.\n",
    "\n",
    "# 첫째 줄에 단어의 개수 N이 들어온다. N은 100보다 작거나 같은 자연수이다. 둘째 줄부터 N개의 줄에 단어가 들어온다. \n",
    "# 단어는 알파벳 소문자로만 되어있고 중복되지 않으며, 길이는 최대 100이다.\n",
    "# 첫째 줄에 그룹 단어의 개수를 출력한다."
   ]
  },
  {
   "cell_type": "code",
   "execution_count": 17,
   "id": "47c46fe8-3d5a-4dd6-870e-5f9fce140baf",
   "metadata": {
    "scrolled": true
   },
   "outputs": [
    {
     "name": "stdout",
     "output_type": "stream",
     "text": [
      " 3\n",
      " apple\n",
      " orange\n",
      " banana\n"
     ]
    },
    {
     "name": "stdout",
     "output_type": "stream",
     "text": [
      "2\n"
     ]
    }
   ],
   "source": [
    "N = int(input())\n",
    "count = 0\n",
    "\n",
    "for _ in range(N):\n",
    "    word = input()\n",
    "    a = set() # set은 중복을 허용하지 않음\n",
    "    first = '' # 공백이 아님 문자열이 없음을 미미\n",
    "    is_group_word = True\n",
    "\n",
    "    for char in word:\n",
    "        if char != first:\n",
    "            if char in a:\n",
    "                is_group_word = False\n",
    "                break\n",
    "            a.add(char)\n",
    "        first = char\n",
    "\n",
    "    if is_group_word:\n",
    "        count += 1\n",
    "\n",
    "print(count)\n"
   ]
  },
  {
   "cell_type": "code",
   "execution_count": null,
   "id": "2fc6deb7-ec7b-489e-afeb-6adf90a3c25c",
   "metadata": {},
   "outputs": [],
   "source": [
    "# 2941번번"
   ]
  },
  {
   "cell_type": "code",
   "execution_count": 22,
   "id": "c98336bf-0e6d-42f0-a178-747d342d086a",
   "metadata": {},
   "outputs": [
    {
     "name": "stdout",
     "output_type": "stream",
     "text": [
      " addz=z=\n"
     ]
    },
    {
     "name": "stdout",
     "output_type": "stream",
     "text": [
      "4\n"
     ]
    }
   ],
   "source": [
    "c_apb = ['c=', 'c-', 'dz=', 'd-', 'lj', 'nj', 's=', 'z=']\n",
    "\n",
    "word = input()\n",
    "\n",
    "for c in c_apb:\n",
    "    word = word.replace(c, '*') # 글자를 세기 위해 아무 문자 하나를 넣음\n",
    "\n",
    "print(len(word))\n"
   ]
  },
  {
   "cell_type": "code",
   "execution_count": null,
   "id": "dc11f5fd-9d27-4c8b-9eba-f6ac15fac9d7",
   "metadata": {},
   "outputs": [],
   "source": []
  },
  {
   "cell_type": "code",
   "execution_count": null,
   "id": "69daf55a-da95-43f1-8b18-23928bbc6f66",
   "metadata": {},
   "outputs": [],
   "source": []
  },
  {
   "cell_type": "code",
   "execution_count": null,
   "id": "6820393b-298c-418d-ae97-1e37edfb5912",
   "metadata": {},
   "outputs": [],
   "source": []
  },
  {
   "cell_type": "code",
   "execution_count": null,
   "id": "4dcd0c26-8917-4627-9c73-0c3997c6b64a",
   "metadata": {},
   "outputs": [],
   "source": []
  },
  {
   "cell_type": "code",
   "execution_count": null,
   "id": "73dc0dd7-4c8e-4dda-9e5f-4f74acbafab6",
   "metadata": {},
   "outputs": [],
   "source": []
  },
  {
   "cell_type": "code",
   "execution_count": null,
   "id": "406e0c84-1bef-42e3-b02b-00f01cb37611",
   "metadata": {},
   "outputs": [],
   "source": []
  },
  {
   "cell_type": "code",
   "execution_count": null,
   "id": "2f1121bf-b6d9-46d3-ba9f-1dfef0cc983c",
   "metadata": {},
   "outputs": [],
   "source": []
  }
 ],
 "metadata": {
  "kernelspec": {
   "display_name": "Python 3 (ipykernel)",
   "language": "python",
   "name": "python3"
  },
  "language_info": {
   "codemirror_mode": {
    "name": "ipython",
    "version": 3
   },
   "file_extension": ".py",
   "mimetype": "text/x-python",
   "name": "python",
   "nbconvert_exporter": "python",
   "pygments_lexer": "ipython3",
   "version": "3.12.7"
  }
 },
 "nbformat": 4,
 "nbformat_minor": 5
}
