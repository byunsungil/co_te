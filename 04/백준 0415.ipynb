{
 "cells": [
  {
   "cell_type": "code",
   "execution_count": null,
   "id": "b778cf59",
   "metadata": {},
   "outputs": [],
   "source": [
    "# 11650번\n",
    "# 2차원 평면 위의 점 N개가 주어진다. 좌표를 x좌표가 증가하는 순으로, x좌표가 같으면 y좌표가 증가하는 순서로 정렬한 다음 출력하는 프로그램을 작성하시오.\n",
    "\n",
    "# 첫째 줄에 점의 개수 N (1 ≤ N ≤ 100,000)이 주어진다. 둘째 줄부터 N개의 줄에는 i번점의 위치 xi와 yi가 주어진다. (-100,000 ≤ xi, yi ≤ 100,000) 좌표는 항상 정수이고, 위치가 같은 두 점은 없다.\n",
    "\n",
    "# 첫째 줄부터 N개의 줄에 점을 정렬한 결과를 출력한다"
   ]
  },
  {
   "cell_type": "code",
   "execution_count": 14,
   "id": "4a8922d1",
   "metadata": {},
   "outputs": [
    {
     "name": "stdout",
     "output_type": "stream",
     "text": [
      "1 2\n",
      "2 3\n",
      "3 4\n"
     ]
    }
   ],
   "source": [
    "N = int(input())\n",
    "point = []\n",
    "\n",
    "for _ in range(N):\n",
    "    x,y = map(int, input().split())\n",
    "    point.append((x,y))\n",
    "\n",
    "point.sort(key=lambda x: (x[0], x[1]))\n",
    "\n",
    "for x, y in point:\n",
    "    print(x, y)"
   ]
  },
  {
   "cell_type": "code",
   "execution_count": null,
   "id": "ada1708b",
   "metadata": {},
   "outputs": [],
   "source": [
    "# 1181번번\n",
    "# 알파벳 소문자로 이루어진 N개의 단어가 들어오면 아래와 같은 조건에 따라 정렬하는 프로그램을 작성하시오.\n",
    "\n",
    "# 길이가 짧은 것부터\n",
    "# 길이가 같으면 사전 순으로\n",
    "# 단, 중복된 단어는 하나만 남기고 제거해야 한다.\n",
    "\n",
    "# 첫째 줄에 단어의 개수 N이 주어진다. (1 ≤ N ≤ 20,000) 둘째 줄부터 N개의 줄에 걸쳐 알파벳 소문자로 이루어진 단어가 한 줄에 하나씩 주어진다. 주어지는 문자열의 길이는 50을 넘지 않는다.\n",
    "\n",
    "# 조건에 따라 정렬하여 단어들을 출력한다."
   ]
  },
  {
   "cell_type": "code",
   "execution_count": 10,
   "id": "99012fad",
   "metadata": {},
   "outputs": [
    {
     "name": "stdout",
     "output_type": "stream",
     "text": [
      "apple\n",
      "banana\n",
      "orange\n"
     ]
    }
   ],
   "source": [
    "N = int(input())\n",
    "words = [] \n",
    "\n",
    "for _ in range(N):\n",
    "    word = input()\n",
    "    words.append(word)\n",
    "\n",
    "words = list(set(words))\n",
    "\n",
    "words.sort(key=lambda x: (len(x), x))\n",
    "\n",
    "for w in words:\n",
    "    print(w)\n"
   ]
  },
  {
   "cell_type": "code",
   "execution_count": null,
   "id": "9b7145b0",
   "metadata": {},
   "outputs": [],
   "source": [
    "# 2751번\n",
    "# N개의 수가 주어졌을 때, 이를 오름차순으로 정렬하는 프로그램을 작성하시오.\n",
    "# 첫째 줄에 수의 개수 N(1 ≤ N ≤ 1,000,000)이 주어진다. 둘째 줄부터 N개의 줄에는 수가 주어진다.\n",
    "# 이 수는 절댓값이 1,000,000보다 작거나 같은 정수이다. 수는 중복되지 않는다.\n",
    "# 첫째 줄부터 N개의 줄에 오름차순으로 정렬한 결과를 한 줄에 하나씩 출력한다."
   ]
  },
  {
   "cell_type": "code",
   "execution_count": 1,
   "id": "af91b30d",
   "metadata": {},
   "outputs": [],
   "source": [
    "import sys"
   ]
  },
  {
   "cell_type": "code",
   "execution_count": null,
   "id": "ea1bf930",
   "metadata": {},
   "outputs": [],
   "source": [
    "import sys\n",
    "\n",
    "input = sys.stdin.readline\n",
    "\n",
    "N = int(input())\n",
    "numbers = set()\n",
    "\n",
    "for _ in range(N):\n",
    "    num = int(input())\n",
    "    numbers.add(num)\n",
    "\n",
    "numbers = sorted(numbers)\n",
    "\n",
    "for n in numbers:\n",
    "    print(n)"
   ]
  },
  {
   "cell_type": "code",
   "execution_count": null,
   "id": "d2c0ed14",
   "metadata": {},
   "outputs": [],
   "source": [
    "\n",
    "\n",
    "# 수를 처리하는 것은 통계학에서 상당히 중요한 일이다. 통계학에서 N개의 수를 대표하는 기본 통계값에는 다음과 같은 것들이 있다. 단, N은 홀수라고 가정하자.\n",
    "\n",
    "# 산술평균 : N개의 수들의 합을 N으로 나눈 값\n",
    "# 중앙값 : N개의 수들을 증가하는 순서로 나열했을 경우 그 중앙에 위치하는 값\n",
    "# 최빈값 : N개의 수들 중 가장 많이 나타나는 값\n",
    "# 범위 : N개의 수들 중 최댓값과 최솟값의 차이\n",
    "\n",
    "# N개의 수가 주어졌을 때, 네 가지 기본 통계값을 구하는 프로그램을 작성하시오.\n",
    "\n",
    "# 입력\n",
    "# 첫째 줄에 수의 개수 N(1 ≤ N ≤ 500,000)이 주어진다. 단, N은 홀수이다. 그 다음 N개의 줄에는 정수들이 주어진다. 입력되는 정수의 절댓값은 4,000을 넘지 않는다.\n",
    "\n",
    "# 출력\n",
    "# 첫째 줄에는 산술평균을 출력한다. 소수점 이하 첫째 자리에서 반올림한 값을 출력한다.\n",
    "# 둘째 줄에는 중앙값을 출력한다.\n",
    "# 셋째 줄에는 최빈값을 출력한다. 여러 개 있을 때에는 최빈값 중 두 번째로 작은 값을 출력한다.\n",
    "# 넷째 줄에는 범위를 출력한다."
   ]
  }
 ],
 "metadata": {
  "kernelspec": {
   "display_name": "base",
   "language": "python",
   "name": "python3"
  },
  "language_info": {
   "codemirror_mode": {
    "name": "ipython",
    "version": 3
   },
   "file_extension": ".py",
   "mimetype": "text/x-python",
   "name": "python",
   "nbconvert_exporter": "python",
   "pygments_lexer": "ipython3",
   "version": "3.12.7"
  }
 },
 "nbformat": 4,
 "nbformat_minor": 5
}
