{
 "cells": [
  {
   "cell_type": "code",
   "execution_count": null,
   "id": "e4e9d382-4b88-41df-8d1a-ea7468caa00a",
   "metadata": {},
   "outputs": [],
   "source": [
    "# 1436번\n",
    "# 666은 종말을 나타내는 수라고 한다. 따라서, 많은 블록버스터 영화에서는 666이 들어간 제목을 많이 사용한다. \n",
    "# 영화감독 숌은 세상의 종말 이라는 시리즈 영화의 감독이다. \n",
    "# 조지 루카스는 스타워즈를 만들 때, 스타워즈 1, 스타워즈 2, 스타워즈 3, 스타워즈 4, 스타워즈 5, 스타워즈 6과 같이 이름을 지었고, \n",
    "# 피터 잭슨은 반지의 제왕을 만들 때, 반지의 제왕 1, 반지의 제왕 2, 반지의 제왕 3과 같이 영화 제목을 지었다. \n",
    "# 하지만 숌은 자신이 조지 루카스와 피터 잭슨을 뛰어넘는다는 것을 보여주기 위해서 영화 제목을 좀 다르게 만들기로 했다.\n",
    "\n",
    "# 종말의 수란 어떤 수에 6이 적어도 3개 이상 연속으로 들어가는 수를 말한다. 제일 작은 종말의 수는 666이고, 그 다음으로 큰 수는 1666, 2666, 3666, .... 이다. \n",
    "# 따라서, 숌은 첫 번째 영화의 제목은 \"세상의 종말 666\", 두 번째 영화의 제목은 \"세상의 종말 1666\"와 같이 이름을 지을 것이다. \n",
    "# 일반화해서 생각하면, N번째 영화의 제목은 세상의 종말 (N번째로 작은 종말의 수) 와 같다.\n",
    "\n",
    "# 숌이 만든 N번째 영화의 제목에 들어간 수를 출력하는 프로그램을 작성하시오. 숌은 이 시리즈를 항상 차례대로 만들고, 다른 영화는 만들지 않는다."
   ]
  },
  {
   "cell_type": "code",
   "execution_count": 28,
   "id": "bf95a984-b5f1-4df2-9e78-81cc57373b83",
   "metadata": {},
   "outputs": [
    {
     "name": "stdout",
     "output_type": "stream",
     "text": [
      " 1\n"
     ]
    },
    {
     "name": "stdout",
     "output_type": "stream",
     "text": [
      "666\n"
     ]
    }
   ],
   "source": [
    "N = int(input())\n",
    "\n",
    "count = 0\n",
    "num = 666\n",
    "\n",
    "while True:\n",
    "    if '666' in str(num):\n",
    "        count += 1\n",
    "        if count == N:\n",
    "            print(num)\n",
    "            break\n",
    "    num += 1\n"
   ]
  },
  {
   "cell_type": "code",
   "execution_count": null,
   "id": "33c56054-84a1-45ca-a3e5-c1f2a351b60b",
   "metadata": {},
   "outputs": [],
   "source": [
    "# 1018번\n",
    "# 지민이는 자신의 저택에서 MN개의 단위 정사각형으로 나누어져 있는 M×N 크기의 보드를 찾았다. \n",
    "# 어떤 정사각형은 검은색으로 칠해져 있고, 나머지는 흰색으로 칠해져 있다. 지민이는 이 보드를 잘라서 8×8 크기의 체스판으로 만들려고 한다.\n",
    "\n",
    "# 체스판은 검은색과 흰색이 번갈아서 칠해져 있어야 한다. \n",
    "# 구체적으로, 각 칸이 검은색과 흰색 중 하나로 색칠되어 있고, 변을 공유하는 두 개의 사각형은 다른 색으로 칠해져 있어야 한다. \n",
    "# 따라서 이 정의를 따르면 체스판을 색칠하는 경우는 두 가지뿐이다. 하나는 맨 왼쪽 위 칸이 흰색인 경우, 하나는 검은색인 경우이다.\n",
    "\n",
    "# 보드가 체스판처럼 칠해져 있다는 보장이 없어서, 지민이는 8×8 크기의 체스판으로 잘라낸 후에 몇 개의 정사각형을 다시 칠해야겠다고 생각했다. \n",
    "# 당연히 8*8 크기는 아무데서나 골라도 된다. 지민이가 다시 칠해야 하는 정사각형의 최소 개수를 구하는 프로그램을 작성하시오.\n",
    "\n",
    "\n",
    "# 입력\n",
    "# 첫째 줄에 N과 M이 주어진다. N과 M은 8보다 크거나 같고, 50보다 작거나 같은 자연수이다. \n",
    "# 둘째 줄부터 N개의 줄에는 보드의 각 행의 상태가 주어진다. B는 검은색이며, W는 흰색이다.\n",
    "\n",
    "# 출력\n",
    "# 첫째 줄에 지민이가 다시 칠해야 하는 정사각형 개수의 최솟값을 출력한다."
   ]
  },
  {
   "cell_type": "code",
   "execution_count": 34,
   "id": "d5c0826d-65d9-494b-b379-113a9d54809a",
   "metadata": {},
   "outputs": [
    {
     "name": "stdout",
     "output_type": "stream",
     "text": [
      " 8 8\n",
      " wbwbwbwb\n",
      " bwbwbwbw\n",
      " wwbbwbwb\n",
      " bwbwbwwb\n",
      " wbwbwbwb\n",
      " bwbwbwbw\n",
      " wwwwbbbb\n",
      " bwbwwwww\n"
     ]
    },
    {
     "name": "stdout",
     "output_type": "stream",
     "text": [
      "64\n"
     ]
    }
   ],
   "source": [
    "N, M = map(int, input().split())\n",
    "board = [input() for _ in range(N)]\n",
    "\n",
    "min_paint = 64  # 최대 64칸을 칠해야 할 수 있으므로 초기값을 64로 설정\n",
    "\n",
    "for i in range(N - 7):  # 8x8 크기니까 -7\n",
    "    for j in range(M - 7):\n",
    "        w_start = 0  # W로 시작할 때 다시 칠할 칸 수\n",
    "        b_start = 0  # B로 시작할 때 다시 칠할 칸 수\n",
    "\n",
    "        for x in range(8):\n",
    "            for y in range(8):\n",
    "                current = board[i + x][j + y]\n",
    "                # (x + y) % 2 == 0이면 시작 색, 아니면 반대 색\n",
    "                if (x + y) % 2 == 0:\n",
    "                    if current != 'W':\n",
    "                        w_start += 1\n",
    "                    if current != 'B':\n",
    "                        b_start += 1\n",
    "                else:\n",
    "                    if current != 'B':\n",
    "                        w_start += 1\n",
    "                    if current != 'W':\n",
    "                        b_start += 1\n",
    "\n",
    "        min_paint = min(min_paint, w_start, b_start)\n",
    "\n",
    "print(min_paint)\n"
   ]
  },
  {
   "cell_type": "code",
   "execution_count": null,
   "id": "c44c79e3-16bf-4f6d-829e-29c1bfed9e46",
   "metadata": {},
   "outputs": [],
   "source": [
    "# 10814번\n",
    "# 온라인 저지에 가입한 사람들의 나이와 이름이 가입한 순서대로 주어진다. \n",
    "# 이때, 회원들을 나이가 증가하는 순으로, 나이가 같으면 먼저 가입한 사람이 앞에 오는 순서로 정렬하는 프로그램을 작성하시오.\n",
    "\n",
    "# 첫째 줄에 온라인 저지 회원의 수 N이 주어진다. (1 ≤ N ≤ 100,000)\n",
    "# 둘째 줄부터 N개의 줄에는 각 회원의 나이와 이름이 공백으로 구분되어 주어진다. \n",
    "# 나이는 1보다 크거나 같으며, 200보다 작거나 같은 정수이고, 이름은 알파벳 대소문자로 이루어져 있고, 길이가 100보다 작거나 같은 문자열이다. \n",
    "# 입력은 가입한 순서로 주어진다.\n",
    "\n",
    "# 첫째 줄부터 총 N개의 줄에 걸쳐 온라인 저지 회원을 나이 순, 나이가 같으면 가입한 순으로 한 줄에 한 명씩 나이와 이름을 공백으로 구분해 출력한다."
   ]
  },
  {
   "cell_type": "code",
   "execution_count": 39,
   "id": "838bf9c5-6575-4113-9c16-93687fd97b37",
   "metadata": {},
   "outputs": [
    {
     "name": "stdout",
     "output_type": "stream",
     "text": [
      " 3\n",
      " 27 byun\n",
      " 26 kim\n",
      " 27 lee\n"
     ]
    },
    {
     "name": "stdout",
     "output_type": "stream",
     "text": [
      "26 kim\n",
      "27 byun\n",
      "27 lee\n"
     ]
    }
   ],
   "source": [
    "N = int(input())\n",
    "members = []\n",
    "\n",
    "for _ in range(N):\n",
    "    age, name = input().split()\n",
    "    members.append((int(age), name))\n",
    "\n",
    "members.sort(key=lambda x: x[0])\n",
    "\n",
    "for age, name in members:\n",
    "    print(age, name)\n"
   ]
  },
  {
   "cell_type": "code",
   "execution_count": null,
   "id": "b3b68888-30ee-4e82-b3b8-99dca6f00d1a",
   "metadata": {},
   "outputs": [],
   "source": []
  }
 ],
 "metadata": {
  "kernelspec": {
   "display_name": "Python 3 (ipykernel)",
   "language": "python",
   "name": "python3"
  },
  "language_info": {
   "codemirror_mode": {
    "name": "ipython",
    "version": 3
   },
   "file_extension": ".py",
   "mimetype": "text/x-python",
   "name": "python",
   "nbconvert_exporter": "python",
   "pygments_lexer": "ipython3",
   "version": "3.12.7"
  }
 },
 "nbformat": 4,
 "nbformat_minor": 5
}
