{
 "cells": [
  {
   "cell_type": "code",
   "execution_count": 14,
   "id": "c54eb7dc",
   "metadata": {},
   "outputs": [
    {
     "name": "stdout",
     "output_type": "stream",
     "text": [
      "6\n",
      "10\n"
     ]
    }
   ],
   "source": [
    "T = int(input())  # 테스트 케이스 수 입력\n",
    "\n",
    "for _ in range(T):\n",
    "    k = int(input())  # 층수 입력\n",
    "    n = int(input())  # 호수 입력\n",
    "\n",
    "    # 0층의 각 호에 대한 초기화\n",
    "    floor = [i for i in range(1, n + 1)]\n",
    "\n",
    "    # 1층부터 k층까지 계산\n",
    "    for _ in range(k):\n",
    "        for i in range(1, n):\n",
    "            floor[i] += floor[i - 1]\n",
    "\n",
    "    print(floor[-1])\n"
   ]
  }
 ],
 "metadata": {
  "kernelspec": {
   "display_name": "ml",
   "language": "python",
   "name": "python3"
  },
  "language_info": {
   "codemirror_mode": {
    "name": "ipython",
    "version": 3
   },
   "file_extension": ".py",
   "mimetype": "text/x-python",
   "name": "python",
   "nbconvert_exporter": "python",
   "pygments_lexer": "ipython3",
   "version": "3.13.3"
  }
 },
 "nbformat": 4,
 "nbformat_minor": 5
}
