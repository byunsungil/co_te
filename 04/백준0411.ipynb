{
 "cells": [
  {
   "cell_type": "code",
   "execution_count": null,
   "id": "bf47d5fc-6f60-4391-9dac-81dfd8d73e18",
   "metadata": {},
   "outputs": [],
   "source": [
    "# 10872번번\n",
    "# 0보다 크거나 같은 정수 N이 주어진다. 이때, N!을 출력하는 프로그램을 작성하시오.\n",
    "# 첫째 줄에 정수 N(0 ≤ N ≤ 12)이 주어진다."
   ]
  },
  {
   "cell_type": "code",
   "execution_count": null,
   "id": "da93efdb-bc2f-4694-b9ab-c431a374c888",
   "metadata": {},
   "outputs": [],
   "source": [
    "# 1부터 입력 받는 수 까지 곱해야함"
   ]
  },
  {
   "cell_type": "code",
   "execution_count": 5,
   "id": "2b5cea6a-e335-4717-94ba-8b0019dcba68",
   "metadata": {},
   "outputs": [
    {
     "name": "stdout",
     "output_type": "stream",
     "text": [
      " 10\n"
     ]
    },
    {
     "name": "stdout",
     "output_type": "stream",
     "text": [
      "3628800\n"
     ]
    }
   ],
   "source": [
    "N = int(input())\n",
    "result = 1\n",
    "\n",
    "for i in range(1, N + 1):\n",
    "    result *= i\n",
    "\n",
    "print(result)\n"
   ]
  },
  {
   "cell_type": "code",
   "execution_count": null,
   "id": "6a59439f-4845-4b6e-90c5-51d41582b101",
   "metadata": {},
   "outputs": [],
   "source": [
    "# 5597번번\n",
    "# X대학 M교수님은 프로그래밍 수업을 맡고 있다. 교실엔 학생이 30명이 있는데, 학생 명부엔 각 학생별로 1번부터 30번까지 출석번호가 붙어 있다.\n",
    "\n",
    "# 교수님이 내준 특별과제를 28명이 제출했는데, 그 중에서 제출 안 한 학생 2명의 출석번호를 구하는 프로그램을 작성하시오.\n",
    "\n",
    "# 입력은 총 28줄로 각 제출자(학생)의 출석번호 n(1 ≤ n ≤ 30)가 한 줄에 하나씩 주어진다. 출석번호에 중복은 없다.\n",
    "# 출력은 2줄이다. 1번째 줄엔 제출하지 않은 학생의 출석번호 중 가장 작은 것을 출력하고, 2번째 줄에선 그 다음 출석번호를 출력한다."
   ]
  },
  {
   "cell_type": "code",
   "execution_count": 16,
   "id": "227d0457-b79a-433a-a4c5-522f7f007a66",
   "metadata": {
    "scrolled": true
   },
   "outputs": [
    {
     "name": "stdout",
     "output_type": "stream",
     "text": [
      "출석번호를 입력 해주세요 :  1\n",
      "출석번호를 입력 해주세요 :  2\n",
      "출석번호를 입력 해주세요 :  3\n",
      "출석번호를 입력 해주세요 :  4\n",
      "출석번호를 입력 해주세요 :  5\n",
      "출석번호를 입력 해주세요 :  6\n",
      "출석번호를 입력 해주세요 :  7\n",
      "출석번호를 입력 해주세요 :  8\n",
      "출석번호를 입력 해주세요 :  9\n",
      "출석번호를 입력 해주세요 :  11\n",
      "출석번호를 입력 해주세요 :  12\n",
      "출석번호를 입력 해주세요 :  13\n",
      "출석번호를 입력 해주세요 :  14\n",
      "출석번호를 입력 해주세요 :  15\n",
      "출석번호를 입력 해주세요 :  16\n",
      "출석번호를 입력 해주세요 :  17\n",
      "출석번호를 입력 해주세요 :  18\n",
      "출석번호를 입력 해주세요 :  19\n",
      "출석번호를 입력 해주세요 :  20\n",
      "출석번호를 입력 해주세요 :  21\n",
      "출석번호를 입력 해주세요 :  22\n",
      "출석번호를 입력 해주세요 :  23\n",
      "출석번호를 입력 해주세요 :  24\n",
      "출석번호를 입력 해주세요 :  25\n",
      "출석번호를 입력 해주세요 :  26\n",
      "출석번호를 입력 해주세요 :  27\n",
      "출석번호를 입력 해주세요 :  28\n",
      "출석번호를 입력 해주세요 :  29\n"
     ]
    },
    {
     "ename": "TypeError",
     "evalue": "unsupported operand type(s) for -: 'list' and 'set'",
     "output_type": "error",
     "traceback": [
      "\u001b[1;31m---------------------------------------------------------------------------\u001b[0m",
      "\u001b[1;31mTypeError\u001b[0m                                 Traceback (most recent call last)",
      "Cell \u001b[1;32mIn[16], line 8\u001b[0m\n\u001b[0;32m      5\u001b[0m     students\u001b[38;5;241m.\u001b[39mappend(student)\n\u001b[0;32m      7\u001b[0m num \u001b[38;5;241m=\u001b[39m \u001b[38;5;28mlist\u001b[39m(\u001b[38;5;28mrange\u001b[39m(\u001b[38;5;241m1\u001b[39m, \u001b[38;5;241m31\u001b[39m))\n\u001b[1;32m----> 8\u001b[0m missing \u001b[38;5;241m=\u001b[39m \u001b[38;5;28mlist\u001b[39m(num \u001b[38;5;241m-\u001b[39m \u001b[38;5;28mset\u001b[39m(students))\n\u001b[0;32m      9\u001b[0m missing\u001b[38;5;241m.\u001b[39msort()\n\u001b[0;32m     11\u001b[0m \u001b[38;5;28;01mfor\u001b[39;00m student \u001b[38;5;129;01min\u001b[39;00m missing:\n",
      "\u001b[1;31mTypeError\u001b[0m: unsupported operand type(s) for -: 'list' and 'set'"
     ]
    }
   ],
   "source": [
    "students = []\n",
    "\n",
    "for _ in range(28):\n",
    "    student = int(input())\n",
    "    students.append(student)\n",
    "\n",
    "num = set(range(1, 31))\n",
    "no_st = list(num - set(students))\n",
    "no_st.sort()\n",
    "\n",
    "for student in no_st:\n",
    "    print(student)\n"
   ]
  },
  {
   "cell_type": "code",
   "execution_count": null,
   "id": "f6bf2725-fa19-4ab7-b1ed-f5d6693f151a",
   "metadata": {},
   "outputs": [],
   "source": [
    "# 2753번번\n",
    "# 연도가 주어졌을 때, 윤년이면 1, 아니면 0을 출력하는 프로그램을 작성하시오.\n",
    "\n",
    "# 윤년은 연도가 4의 배수이면서, 100의 배수가 아닐 때 또는 400의 배수일 때이다.\n",
    "\n",
    "# 예를 들어, 2012년은 4의 배수이면서 100의 배수가 아니라서 윤년이다. \n",
    "# 1900년은 100의 배수이고 400의 배수는 아니기 때문에 윤년이 아니다. 하지만, 2000년은 400의 배수이기 때문에 윤년이다.\n",
    "\n",
    "# 첫째 줄에 연도가 주어진다. 연도는 1보다 크거나 같고, 4000보다 작거나 같은 자연수이다.\n",
    "# 첫째 줄에 윤년이면 1, 아니면 0을 출력한다."
   ]
  },
  {
   "cell_type": "code",
   "execution_count": 27,
   "id": "b71b362d-3e1a-4a07-9ff2-55394302a123",
   "metadata": {},
   "outputs": [
    {
     "name": "stdout",
     "output_type": "stream",
     "text": [
      " 2000\n"
     ]
    },
    {
     "name": "stdout",
     "output_type": "stream",
     "text": [
      "1\n"
     ]
    }
   ],
   "source": [
    "year = int(input())\n",
    "\n",
    "l_year = (year % 4 == 0 and year % 100 != 0) or (year % 400 == 0)\n",
    "\n",
    "if l_year:\n",
    "    print(1)\n",
    "else:\n",
    "    print(0)\n"
   ]
  },
  {
   "cell_type": "code",
   "execution_count": null,
   "id": "004f2822-6bef-4489-a621-6ec53269c181",
   "metadata": {},
   "outputs": [],
   "source": [
    "# 17478번\n",
    "# 평소에 질문을 잘 받아주기로 유명한 중앙대학교의 JH 교수님은 학생들로부터 재귀함수가 무엇인지에 대하여 많은 질문을 받아왔다.\n",
    "\n",
    "# 매번 질문을 잘 받아주셨던 JH 교수님이지만 그는 중앙대학교가 자신과 맞는가에 대한 고민을 항상 해왔다.\n",
    "\n",
    "# 중앙대학교와 자신의 길이 맞지 않다고 생각한 JH 교수님은 결국 중앙대학교를 떠나기로 결정하였다.\n",
    "\n",
    "# 떠나기 전까지도 제자들을 생각하셨던 JH 교수님은 재귀함수가 무엇인지 물어보는 학생들을 위한 작은 선물로 자동 응답 챗봇을 준비하기로 했다.\n",
    "\n",
    "# JH 교수님이 만들 챗봇의 응답을 출력하는 프로그램을 만들어보자.\n",
    "\n",
    "# 교수님이 출력을 원하는 재귀 횟수 N(1 ≤ N ≤ 50)이 주어진다.\n",
    "# 출력 예시를 보고 재귀 횟수에 따른 챗봇의 응답을 출력한다.\n",
    "\n",
    "# 어느 한 컴퓨터공학과 학생이 유명한 교수님을 찾아가 물었다.\n",
    "# \"재귀함수가 뭔가요?\"\n",
    "# \"잘 들어보게. 옛날옛날 한 산 꼭대기에 이세상 모든 지식을 통달한 선인이 있었어.\n",
    "# 마을 사람들은 모두 그 선인에게 수많은 질문을 했고, 모두 지혜롭게 대답해 주었지.\n",
    "# 그의 답은 대부분 옳았다고 하네. 그런데 어느 날, 그 선인에게 한 선비가 찾아와서 물었어.\"\n",
    "# ____\"재귀함수가 뭔가요?\"\n",
    "# ____\"잘 들어보게. 옛날옛날 한 산 꼭대기에 이세상 모든 지식을 통달한 선인이 있었어.\n",
    "# ____마을 사람들은 모두 그 선인에게 수많은 질문을 했고, 모두 지혜롭게 대답해 주었지.\n",
    "# ____그의 답은 대부분 옳았다고 하네. 그런데 어느 날, 그 선인에게 한 선비가 찾아와서 물었어.\"\n",
    "# ________\"재귀함수가 뭔가요?\"\n",
    "# ________\"재귀함수는 자기 자신을 호출하는 함수라네\"\n",
    "# ________라고 답변하였지.\n",
    "# ____라고 답변하였지.\n",
    "# 라고 답변하였지."
   ]
  },
  {
   "cell_type": "code",
   "execution_count": 31,
   "id": "61bd1cbc-9eab-41de-a24d-5438d2486430",
   "metadata": {},
   "outputs": [
    {
     "name": "stdout",
     "output_type": "stream",
     "text": [
      " 2\n"
     ]
    },
    {
     "name": "stdout",
     "output_type": "stream",
     "text": [
      "어느 한 컴퓨터공학과 학생이 유명한 교수님을 찾아가 물었다.\n",
      "\"재귀함수가 뭔가요?\"\n",
      "\"잘 들어보게. 옛날옛날 한 산 꼭대기에 이세상 모든 지식을 통달한 선인이 있었어.\n",
      "마을 사람들은 모두 그 선인에게 수많은 질문을 했고, 모두 지혜롭게 대답해 주었지.\n",
      "그의 답은 대부분 옳았다고 하네. 그런데 어느 날, 그 선인에게 한 선비가 찾아와서 물었어.\"\n",
      "____\"재귀함수가 뭔가요?\"\n",
      "____\"잘 들어보게. 옛날옛날 한 산 꼭대기에 이세상 모든 지식을 통달한 선인이 있었어.\n",
      "____마을 사람들은 모두 그 선인에게 수많은 질문을 했고, 모두 지혜롭게 대답해 주었지.\n",
      "____그의 답은 대부분 옳았다고 하네. 그런데 어느 날, 그 선인에게 한 선비가 찾아와서 물었어.\"\n",
      "________\"재귀함수가 뭔가요?\"\n",
      "________\"재귀함수는 자기 자신을 호출하는 함수라네\"\n",
      "________라고 답변하였지.\n",
      "____라고 답변하였지.\n",
      "라고 답변하였지.\n"
     ]
    }
   ],
   "source": [
    "def func(N, a):\n",
    "    u_bar = \"____\" * a\n",
    "    print(f\"{u_bar}\\\"재귀함수가 뭔가요?\\\"\")\n",
    "    \n",
    "    if a == N:\n",
    "        print(f\"{u_bar}\\\"재귀함수는 자기 자신을 호출하는 함수라네\\\"\")\n",
    "    else:\n",
    "        print(f\"{u_bar}\\\"잘 들어보게. 옛날옛날 한 산 꼭대기에 이세상 모든 지식을 통달한 선인이 있었어.\")\n",
    "        print(f\"{u_bar}마을 사람들은 모두 그 선인에게 수많은 질문을 했고, 모두 지혜롭게 대답해 주었지.\")\n",
    "        print(f\"{u_bar}그의 답은 대부분 옳았다고 하네. 그런데 어느 날, 그 선인에게 한 선비가 찾아와서 물었어.\\\"\")\n",
    "        func(N, a + 1)\n",
    "    \n",
    "    print(f\"{u_bar}라고 답변하였지.\")\n",
    "\n",
    "# 실행 시작\n",
    "N = int(input())\n",
    "print(\"어느 한 컴퓨터공학과 학생이 유명한 교수님을 찾아가 물었다.\")\n",
    "func(N, 0)\n"
   ]
  },
  {
   "cell_type": "code",
   "execution_count": null,
   "id": "261038b5-591e-4589-8621-bb0ed4767c69",
   "metadata": {},
   "outputs": [],
   "source": []
  }
 ],
 "metadata": {
  "kernelspec": {
   "display_name": "Python 3 (ipykernel)",
   "language": "python",
   "name": "python3"
  },
  "language_info": {
   "codemirror_mode": {
    "name": "ipython",
    "version": 3
   },
   "file_extension": ".py",
   "mimetype": "text/x-python",
   "name": "python",
   "nbconvert_exporter": "python",
   "pygments_lexer": "ipython3",
   "version": "3.12.7"
  }
 },
 "nbformat": 4,
 "nbformat_minor": 5
}
